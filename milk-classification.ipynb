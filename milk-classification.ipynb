{
  "cells": [
    {
      "cell_type": "code",
      "execution_count": null,
      "metadata": {
        "id": "kACL_mrOfg-s",
        "outputId": "fc30e612-3afb-4056-f375-801a777a4477"
      },
      "outputs": [
        {
          "name": "stdout",
          "output_type": "stream",
          "text": [
            "       pH  Temprature  Taste  Odor  Fat  Turbidity  Colour   Grade\n",
            "0     6.6          35      1     0    1          0     254    high\n",
            "1     6.6          36      0     1    0          1     253    high\n",
            "2     8.5          70      1     1    1          1     246     low\n",
            "3     9.5          34      1     1    0          1     255     low\n",
            "4     6.6          37      0     0    0          0     255  medium\n",
            "...   ...         ...    ...   ...  ...        ...     ...     ...\n",
            "1054  6.7          45      1     1    0          0     247  medium\n",
            "1055  6.7          38      1     0    1          0     255    high\n",
            "1056  3.0          40      1     1    1          1     255     low\n",
            "1057  6.8          43      1     0    1          0     250    high\n",
            "1058  8.6          55      0     1    1          1     255     low\n",
            "\n",
            "[1059 rows x 8 columns]\n"
          ]
        }
      ],
      "source": [
        "import pandas as pd\n",
        "\n",
        "# Baca file CSV ke dalam DataFrame\n",
        "df = pd.read_csv('C:\\\\Users\\\\jasmi\\\\OneDrive\\\\Documents\\\\milknew.csv')\n",
        "\n",
        "# Tampilkan DataFrame\n",
        "print(df)\n"
      ]
    },
    {
      "cell_type": "code",
      "execution_count": null,
      "metadata": {
        "id": "a3bupH49fg-z",
        "outputId": "497b3c35-c8b1-4588-8b58-23671ff0ebd7"
      },
      "outputs": [
        {
          "name": "stdout",
          "output_type": "stream",
          "text": [
            "       pH  Temprature  Taste  Odor  Fat  Turbidity  Colour   Grade  \\\n",
            "0     6.6          35      1     0    1          0     254    high   \n",
            "1     6.6          36      0     1    0          1     253    high   \n",
            "2     8.5          70      1     1    1          1     246     low   \n",
            "3     9.5          34      1     1    0          1     255     low   \n",
            "4     6.6          37      0     0    0          0     255  medium   \n",
            "...   ...         ...    ...   ...  ...        ...     ...     ...   \n",
            "1054  6.7          45      1     1    0          0     247  medium   \n",
            "1055  6.7          38      1     0    1          0     255    high   \n",
            "1056  3.0          40      1     1    1          1     255     low   \n",
            "1057  6.8          43      1     0    1          0     250    high   \n",
            "1058  8.6          55      0     1    1          1     255     low   \n",
            "\n",
            "      pH_normalized  Temprature_normalized  Taste_normalized  Odor_normalized  \\\n",
            "0          0.553846               0.017857               1.0              0.0   \n",
            "1          0.553846               0.035714               0.0              1.0   \n",
            "2          0.846154               0.642857               1.0              1.0   \n",
            "3          1.000000               0.000000               1.0              1.0   \n",
            "4          0.553846               0.053571               0.0              0.0   \n",
            "...             ...                    ...               ...              ...   \n",
            "1054       0.569231               0.196429               1.0              1.0   \n",
            "1055       0.569231               0.071429               1.0              0.0   \n",
            "1056       0.000000               0.107143               1.0              1.0   \n",
            "1057       0.584615               0.160714               1.0              0.0   \n",
            "1058       0.861538               0.375000               0.0              1.0   \n",
            "\n",
            "      Fat_normalized  Turbidity_normalized  Colour_normalized  \n",
            "0                1.0                   0.0           0.933333  \n",
            "1                0.0                   1.0           0.866667  \n",
            "2                1.0                   1.0           0.400000  \n",
            "3                0.0                   1.0           1.000000  \n",
            "4                0.0                   0.0           1.000000  \n",
            "...              ...                   ...                ...  \n",
            "1054             0.0                   0.0           0.466667  \n",
            "1055             1.0                   0.0           1.000000  \n",
            "1056             1.0                   1.0           1.000000  \n",
            "1057             1.0                   0.0           0.666667  \n",
            "1058             1.0                   1.0           1.000000  \n",
            "\n",
            "[1059 rows x 15 columns]\n"
          ]
        }
      ],
      "source": [
        "# Select relevant columns\n",
        "columns_to_normalize = ['pH', 'Temprature', 'Taste', 'Odor', 'Fat', 'Turbidity', 'Colour']\n",
        "\n",
        "# Perform min-max normalization\n",
        "for column in columns_to_normalize:\n",
        "    min_val = df[column].min()\n",
        "    max_val = df[column].max()\n",
        "    df[column+'_normalized'] = (df[column] - min_val) / (max_val - min_val)\n",
        "\n",
        "# Display the normalized dataset\n",
        "print(df)"
      ]
    },
    {
      "cell_type": "code",
      "execution_count": null,
      "metadata": {
        "id": "CTG2PM3Pfg-0",
        "outputId": "d37e588d-b3df-4913-d463-e16bb7b1e738"
      },
      "outputs": [
        {
          "name": "stdout",
          "output_type": "stream",
          "text": [
            "Learning Rate: 0.1, Accuracy: 99.245%\n",
            "Learning Rate: 0.3, Accuracy: 97.358%\n",
            "Learning Rate: 0.5, Accuracy: 99.623%\n"
          ]
        }
      ],
      "source": [
        "import numpy as np\n",
        "from sklearn.neural_network import MLPClassifier\n",
        "from sklearn.model_selection import train_test_split\n",
        "from sklearn.preprocessing import StandardScaler\n",
        "from sklearn.metrics import accuracy_score\n",
        "\n",
        "# Assuming df is your DataFrame with the normalized columns\n",
        "\n",
        "# Define independent variables (features)\n",
        "X = df[['pH_normalized', 'Temprature_normalized', 'Taste_normalized', 'Odor_normalized', 'Fat_normalized', 'Turbidity_normalized', 'Colour_normalized']]\n",
        "\n",
        "# Define dependent variable (target)\n",
        "y = df['Grade']  # Assuming 'Quality' is the column containing the quality labels\n",
        "\n",
        "# Split the data into training and testing sets\n",
        "X_train, X_test, y_train, y_test = train_test_split(X, y)\n",
        "\n",
        "# Standardize the features (optional but can be beneficial for neural networks)\n",
        "scaler = StandardScaler()\n",
        "X_train_scaled = scaler.fit_transform(X_train)\n",
        "X_test_scaled = scaler.transform(X_test)\n",
        "\n",
        "# Define the neural network model\n",
        "model = MLPClassifier(hidden_layer_sizes=(7,), max_iter=500)\n",
        "\n",
        "# Train the model with different learning rates\n",
        "learning_rates = [0.1, 0.3, 0.5]\n",
        "\n",
        "for lr in learning_rates:\n",
        "    model.set_params(learning_rate_init=lr)\n",
        "    model.fit(X_train_scaled, y_train)\n",
        "\n",
        "    # Make predictions\n",
        "    y_pred = model.predict(X_test_scaled)\n",
        "\n",
        "    # Calculate accuracy\n",
        "    accuracy = accuracy_score(y_test, y_pred)\n",
        "\n",
        "    # Display results\n",
        "    print(f\"Learning Rate: {lr}, Accuracy: {accuracy * 100:.3f}%\")\n"
      ]
    },
    {
      "cell_type": "code",
      "execution_count": null,
      "metadata": {
        "id": "lz5N2pU6fg-1",
        "outputId": "a90d9972-306f-4566-f46b-ea0220d65a9c"
      },
      "outputs": [
        {
          "name": "stdout",
          "output_type": "stream",
          "text": [
            "Hidden Layer Size: 7, Accuracy: 97.736%\n",
            "Hidden Layer Size: 6, Accuracy: 97.358%\n",
            "Hidden Layer Size: 5, Accuracy: 96.604%\n",
            "Hidden Layer Size: 4, Accuracy: 82.264%\n",
            "Hidden Layer Size: 3, Accuracy: 96.226%\n",
            "Hidden Layer Size: 2, Accuracy: 79.245%\n",
            "Hidden Layer Size: 1, Accuracy: 57.736%\n"
          ]
        }
      ],
      "source": [
        "import numpy as np\n",
        "from sklearn.neural_network import MLPClassifier\n",
        "from sklearn.model_selection import train_test_split\n",
        "from sklearn.preprocessing import StandardScaler\n",
        "from sklearn.metrics import accuracy_score\n",
        "\n",
        "# Assuming df is your DataFrame with the normalized columns\n",
        "\n",
        "# Define independent variables (features)\n",
        "X = df[['pH_normalized', 'Temprature_normalized', 'Taste_normalized', 'Odor_normalized', 'Fat_normalized', 'Turbidity_normalized', 'Colour_normalized']]\n",
        "\n",
        "# Define dependent variable (target)\n",
        "y = df['Grade']  # Assuming 'Quality' is the column containing the quality labels\n",
        "\n",
        "# Split the data into training and testing sets\n",
        "X_train, X_test, y_train, y_test = train_test_split(X, y)\n",
        "\n",
        "# Standardize the features (optional but can be beneficial for neural networks)\n",
        "scaler = StandardScaler()\n",
        "X_train_scaled = scaler.fit_transform(X_train)\n",
        "X_test_scaled = scaler.transform(X_test)\n",
        "\n",
        "# Set learning rate and epochs\n",
        "learning_rate = 0.5\n",
        "epochs = 500\n",
        "\n",
        "# Set different values for hidden layer sizes\n",
        "hidden_layer_sizes_values = [7, 6, 5, 4, 3, 2, 1]\n",
        "\n",
        "# Iterate over different hidden layer sizes\n",
        "for hidden_layer_size in hidden_layer_sizes_values:\n",
        "    # Define the neural network model\n",
        "    model = MLPClassifier(hidden_layer_sizes=(hidden_layer_size,), max_iter=epochs, learning_rate_init=learning_rate)\n",
        "\n",
        "    # Train the model\n",
        "    model.fit(X_train_scaled, y_train)\n",
        "\n",
        "    # Make predictions\n",
        "    y_pred = model.predict(X_test_scaled)\n",
        "\n",
        "    # Calculate accuracy\n",
        "    accuracy = accuracy_score(y_test, y_pred)\n",
        "\n",
        "    # Display results\n",
        "    print(f\"Hidden Layer Size: {hidden_layer_size}, Accuracy: {accuracy * 100:.3f}%\")\n"
      ]
    },
    {
      "cell_type": "code",
      "execution_count": null,
      "metadata": {
        "id": "rTNPC3T8fg-2",
        "outputId": "d14af991-93fa-4e86-edc1-73b7f24cb3b3"
      },
      "outputs": [
        {
          "name": "stdout",
          "output_type": "stream",
          "text": [
            "Epochs: 500, Accuracy: 96.226%\n",
            "Epochs: 750, Accuracy: 97.358%\n",
            "Epochs: 1000, Accuracy: 96.604%\n"
          ]
        }
      ],
      "source": [
        "from sklearn.neural_network import MLPClassifier\n",
        "from sklearn.model_selection import train_test_split\n",
        "from sklearn.preprocessing import StandardScaler\n",
        "from sklearn.metrics import accuracy_score\n",
        "\n",
        "# Assuming df is your DataFrame with the normalized columns\n",
        "\n",
        "# Define independent variables (features)\n",
        "X = df[['pH_normalized', 'Temprature_normalized', 'Taste_normalized', 'Odor_normalized', 'Fat_normalized', 'Turbidity_normalized', 'Colour_normalized']]\n",
        "\n",
        "# Define dependent variable (target)\n",
        "y = df['Grade']  # Assuming 'Quality' is the column containing the quality labels\n",
        "\n",
        "# Split the data into training and testing sets\n",
        "X_train, X_test, y_train, y_test = train_test_split(X, y)\n",
        "\n",
        "# Standardize the features (optional but can be beneficial for neural networks)\n",
        "scaler = StandardScaler()\n",
        "X_train_scaled = scaler.fit_transform(X_train)\n",
        "X_test_scaled = scaler.transform(X_test)\n",
        "\n",
        "# Set learning rate and hidden layer size\n",
        "learning_rate = 0.5\n",
        "hidden_layer_size = 7\n",
        "\n",
        "# Set different values for epochs\n",
        "epochs_values = [500, 750, 1000]\n",
        "\n",
        "# Iterate over different epoch values\n",
        "for epochs in epochs_values:\n",
        "    # Define the neural network model\n",
        "    model = MLPClassifier(hidden_layer_sizes=(hidden_layer_size,), max_iter=epochs, learning_rate_init=learning_rate)\n",
        "\n",
        "    # Train the model\n",
        "    model.fit(X_train_scaled, y_train)\n",
        "\n",
        "    # Make predictions\n",
        "    y_pred = model.predict(X_test_scaled)\n",
        "\n",
        "    # Calculate accuracy\n",
        "    accuracy = accuracy_score(y_test, y_pred)\n",
        "\n",
        "    # Display results\n",
        "    print(f\"Epochs: {epochs}, Accuracy: {accuracy * 100:.3f}%\")\n"
      ]
    },
    {
      "cell_type": "code",
      "execution_count": null,
      "metadata": {
        "id": "1nA4NSB5fg-2",
        "outputId": "98bce19b-bea8-4531-a351-4e75b2b79421"
      },
      "outputs": [
        {
          "name": "stdout",
          "output_type": "stream",
          "text": [
            "Fold Accuracy: 96.601%\n",
            "Fold Accuracy: 99.433%\n",
            "Fold Accuracy: 97.450%\n",
            "\n",
            "Average Accuracy: 97.828%\n"
          ]
        }
      ],
      "source": [
        "import numpy as np\n",
        "from sklearn.neural_network import MLPClassifier\n",
        "from sklearn.model_selection import KFold\n",
        "from sklearn.preprocessing import StandardScaler\n",
        "from sklearn.metrics import accuracy_score\n",
        "\n",
        "# Assuming df is your DataFrame with the normalized columns\n",
        "# Assuming 'Grade' is the column containing the quality labels\n",
        "\n",
        "# Define independent variables (features)\n",
        "X = df[['pH_normalized', 'Temprature_normalized', 'Taste_normalized', 'Odor_normalized', 'Fat_normalized', 'Turbidity_normalized', 'Colour_normalized']]\n",
        "\n",
        "# Define dependent variable (target)\n",
        "y = df['Grade']\n",
        "\n",
        "# Standardize the features (optional but can be beneficial for neural networks)\n",
        "scaler = StandardScaler()\n",
        "X_scaled = scaler.fit_transform(X)\n",
        "\n",
        "# Set the number of folds (K)\n",
        "n_folds = 3\n",
        "\n",
        "# Create KFold object\n",
        "kf = KFold(n_splits=n_folds, shuffle=True, random_state=42)\n",
        "\n",
        "# Set learning rate, hidden layer size, and epochs\n",
        "learning_rate = 0.5\n",
        "hidden_layer_size = 7\n",
        "epochs = 750\n",
        "\n",
        "# Initialize an array to store accuracy for each fold\n",
        "accuracies = []\n",
        "\n",
        "# Perform K-fold cross-validation\n",
        "for train_index, test_index in kf.split(X_scaled):\n",
        "    X_train, X_test = X_scaled[train_index], X_scaled[test_index]\n",
        "    y_train, y_test = y.iloc[train_index], y.iloc[test_index]\n",
        "\n",
        "    # Define the neural network model\n",
        "    model = MLPClassifier(hidden_layer_sizes=(hidden_layer_size,), max_iter=epochs, learning_rate_init=learning_rate)\n",
        "\n",
        "    # Train the model\n",
        "    model.fit(X_train, y_train)\n",
        "\n",
        "    # Make predictions\n",
        "    y_pred = model.predict(X_test)\n",
        "\n",
        "    # Calculate accuracy\n",
        "    accuracy = accuracy_score(y_test, y_pred)\n",
        "    accuracies.append(accuracy)\n",
        "\n",
        "    # Display results for each fold\n",
        "    print(f\"Fold Accuracy: {accuracy * 100:.3f}%\")\n",
        "\n",
        "# Calculate and display the average accuracy\n",
        "average_accuracy = np.mean(accuracies)\n",
        "print(f\"\\nAverage Accuracy: {average_accuracy * 100:.3f}%\")\n"
      ]
    },
    {
      "cell_type": "code",
      "execution_count": null,
      "metadata": {
        "id": "PD3IX3O-fg-3"
      },
      "outputs": [],
      "source": []
    },
    {
      "cell_type": "code",
      "execution_count": null,
      "metadata": {
        "id": "-zfPX2rafg-3"
      },
      "outputs": [],
      "source": []
    }
  ],
  "metadata": {
    "kernelspec": {
      "display_name": "base",
      "language": "python",
      "name": "python3"
    },
    "language_info": {
      "codemirror_mode": {
        "name": "ipython",
        "version": 3
      },
      "file_extension": ".py",
      "mimetype": "text/x-python",
      "name": "python",
      "nbconvert_exporter": "python",
      "pygments_lexer": "ipython3",
      "version": "3.11.4"
    },
    "colab": {
      "provenance": []
    }
  },
  "nbformat": 4,
  "nbformat_minor": 0
}